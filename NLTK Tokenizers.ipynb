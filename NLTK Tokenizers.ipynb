{
 "cells": [
  {
   "cell_type": "code",
   "execution_count": 8,
   "metadata": {},
   "outputs": [],
   "source": [
    "import nltk\n",
    "from nltk.tokenize import (TreebankWordTokenizer,\n",
    "                           word_tokenize,\n",
    "                           wordpunct_tokenize,\n",
    "                           TweetTokenizer,\n",
    "                           MWETokenizer)\n",
    "sentence = \"It's true, Ms. Martha Jones! #Truth\""
   ]
  },
  {
   "cell_type": "code",
   "execution_count": 2,
   "metadata": {},
   "outputs": [
    {
     "name": "stdout",
     "output_type": "stream",
     "text": [
      "Whitespace tokenization = [\"It's\", 'true,', 'Ms.', 'Martha', 'Jones!', '#Truth']\n"
     ]
    }
   ],
   "source": [
    "print(f'Whitespace tokenization = {sentence.split()}')"
   ]
  },
  {
   "cell_type": "code",
   "execution_count": 3,
   "metadata": {},
   "outputs": [
    {
     "name": "stdout",
     "output_type": "stream",
     "text": [
      "Punctuation-based tokenization = ['It', \"'\", 's', 'true', ',', 'Ms', '.', 'Martha', 'Jones', '!', '#', 'Truth']\n"
     ]
    }
   ],
   "source": [
    "print(f'Punctuation-based tokenization = {wordpunct_tokenize(sentence)}')"
   ]
  },
  {
   "cell_type": "code",
   "execution_count": 4,
   "metadata": {},
   "outputs": [
    {
     "name": "stdout",
     "output_type": "stream",
     "text": [
      "Multi-word expression (MWE) tokenization = ['It', \"'s\", 'true', ',', 'Ms.', 'Martha_Jones', '!', '#', 'Truth']\n"
     ]
    }
   ],
   "source": [
    "tokenizer = MWETokenizer()\n",
    "tokenizer.add_mwe(('Martha', 'Jones'))\n",
    "print(f'Multi-word expression (MWE) tokenization = {tokenizer.tokenize(word_tokenize(sentence))}')"
   ]
  },
  {
   "cell_type": "code",
   "execution_count": 5,
   "metadata": {},
   "outputs": [
    {
     "name": "stdout",
     "output_type": "stream",
     "text": [
      "Tweet-rules based tokenization = [\"It's\", 'true', ',', 'Ms', '.', 'Martha', 'Jones', '!', '#Truth']\n"
     ]
    }
   ],
   "source": [
    "tokenizer = TweetTokenizer()\n",
    "print(f'Tweet-rules based tokenization = {tokenizer.tokenize(sentence)}')"
   ]
  },
  {
   "cell_type": "code",
   "execution_count": 6,
   "metadata": {},
   "outputs": [
    {
     "name": "stdout",
     "output_type": "stream",
     "text": [
      "Default/Treebank tokenization = ['It', \"'s\", 'true', ',', 'Ms.', 'Martha', 'Jones', '!', '#', 'Truth']\n"
     ]
    }
   ],
   "source": [
    "tokenizer = TreebankWordTokenizer()\n",
    "print(f'Default/Treebank tokenization = {tokenizer.tokenize(sentence)}')"
   ]
  },
  {
   "cell_type": "code",
   "execution_count": null,
   "metadata": {},
   "outputs": [],
   "source": []
  }
 ],
 "metadata": {
  "kernelspec": {
   "display_name": "Python 3",
   "language": "python",
   "name": "python3"
  },
  "language_info": {
   "codemirror_mode": {
    "name": "ipython",
    "version": 3
   },
   "file_extension": ".py",
   "mimetype": "text/x-python",
   "name": "python",
   "nbconvert_exporter": "python",
   "pygments_lexer": "ipython3",
   "version": "3.8.3"
  }
 },
 "nbformat": 4,
 "nbformat_minor": 4
}
