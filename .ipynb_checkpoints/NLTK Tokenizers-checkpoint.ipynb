{
 "cells": [
  {
   "cell_type": "code",
   "execution_count": 30,
   "metadata": {},
   "outputs": [],
   "source": [
    "import nltk\n",
    "from nltk.tokenize import TreebankWordTokenizer, word_tokenize, wordpunct_tokenize, TweetTokenizer, MWETokenizer\n",
    "sentence = \"It's true, Ms. Martha Jones! #Truth\""
   ]
  },
  {
   "cell_type": "code",
   "execution_count": 29,
   "metadata": {},
   "outputs": [
    {
     "name": "stdout",
     "output_type": "stream",
     "text": [
      "Whitespace tokenization = [\"It's\", 'true,', 'Ms.', 'Martha', 'Jones!', '#Truth']\n"
     ]
    }
   ],
   "source": [
    "print(f'Whitespace tokenization = {sentence.split()}')"
   ]
  },
  {
   "cell_type": "code",
   "execution_count": 33,
   "metadata": {},
   "outputs": [
    {
     "name": "stdout",
     "output_type": "stream",
     "text": [
      "Punctuation-based tokenization = ['It', \"'\", 's', 'true', ',', 'Ms', '.', 'Martha', 'Jones', '!', '#', 'Truth']\n"
     ]
    }
   ],
   "source": [
    "print(f'Punctuation-based tokenization = {wordpunct_tokenize(sentence)}')"
   ]
  },
  {
   "cell_type": "code",
   "execution_count": 34,
   "metadata": {},
   "outputs": [
    {
     "name": "stdout",
     "output_type": "stream",
     "text": [
      "Default/Punkt tokenization = ['It', \"'s\", 'true', ',', 'Ms.', 'Martha', 'Jones', '!', '#', 'Truth']\n"
     ]
    }
   ],
   "source": [
    "print(f'Default/Punkt tokenization = {word_tokenize(sentence)}')"
   ]
  },
  {
   "cell_type": "code",
   "execution_count": 36,
   "metadata": {},
   "outputs": [
    {
     "name": "stdout",
     "output_type": "stream",
     "text": [
      "Multi-word expression (MWE) tokenization = ['It', \"'s\", 'true', ',', 'Ms.', 'Martha_Jones', '!', '#', 'Truth']\n"
     ]
    }
   ],
   "source": [
    "tokenizer = MWETokenizer()\n",
    "tokenizer.add_mwe(('Martha', 'Jones'))\n",
    "print(f'Multi-word expression (MWE) tokenization = {tokenizer.tokenize(word_tokenize(sentence))}')"
   ]
  },
  {
   "cell_type": "code",
   "execution_count": 37,
   "metadata": {},
   "outputs": [
    {
     "name": "stdout",
     "output_type": "stream",
     "text": [
      "Tweet-rules based tokenization = [\"It's\", 'true', ',', 'Ms', '.', 'Martha', 'Jones', '!', '#Truth']\n"
     ]
    }
   ],
   "source": [
    "tokenizer = TweetTokenizer()\n",
    "print(f'Tweet-rules based tokenization = {tokenizer.tokenize(sentence)}')"
   ]
  },
  {
   "cell_type": "code",
   "execution_count": 38,
   "metadata": {},
   "outputs": [
    {
     "name": "stdout",
     "output_type": "stream",
     "text": [
      "Treebank tokenization = ['It', \"'s\", 'true', ',', 'Ms.', 'Martha', 'Jones', '!', '#', 'Truth']\n"
     ]
    }
   ],
   "source": [
    "tokenizer = TreebankWordTokenizer()\n",
    "print(f'Treebank tokenization = {tokenizer.tokenize(sentence)}')"
   ]
  },
  {
   "cell_type": "code",
   "execution_count": null,
   "metadata": {},
   "outputs": [],
   "source": []
  }
 ],
 "metadata": {
  "kernelspec": {
   "display_name": "Python 3",
   "language": "python",
   "name": "python3"
  },
  "language_info": {
   "codemirror_mode": {
    "name": "ipython",
    "version": 3
   },
   "file_extension": ".py",
   "mimetype": "text/x-python",
   "name": "python",
   "nbconvert_exporter": "python",
   "pygments_lexer": "ipython3",
   "version": "3.8.3"
  }
 },
 "nbformat": 4,
 "nbformat_minor": 4
}
