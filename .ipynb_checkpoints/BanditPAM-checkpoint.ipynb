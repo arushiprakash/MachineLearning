{
 "cells": [
  {
   "cell_type": "code",
   "execution_count": 1,
   "metadata": {},
   "outputs": [],
   "source": [
    "%matplotlib inline"
   ]
  },
  {
   "cell_type": "code",
   "execution_count": 2,
   "metadata": {},
   "outputs": [],
   "source": [
    "import numpy as np\n",
    "import matplotlib.pyplot as plt\n",
    "\n",
    "from sklearn.cluster import KMeans\n",
    "from sklearn_extra.cluster import KMedoids\n",
    "from sklearn.datasets import load_digits\n",
    "from sklearn.decomposition import PCA\n",
    "from sklearn.preprocessing import scale\n",
    "np.random.seed(42)"
   ]
  },
  {
   "cell_type": "code",
   "execution_count": 3,
   "metadata": {},
   "outputs": [],
   "source": [
    "digits = load_digits()\n",
    "data = scale(digits.data)\n",
    "n_digits = len(np.unique(digits.target))"
   ]
  },
  {
   "cell_type": "code",
   "execution_count": null,
   "metadata": {},
   "outputs": [],
   "source": [
    "reduced_data = PCA(n_components=2).fit_transform(data)\n",
    "\n",
    "# Step size of the mesh. Decrease to increase the quality of the VQ.\n",
    "h = 0.02  # point in the mesh [x_min, m_max]x[y_min, y_max].\n",
    "\n",
    "# Plot the decision boundary. For that, we will assign a color to each\n",
    "x_min, x_max = reduced_data[:, 0].min() - 1, reduced_data[:, 0].max() + 1\n",
    "y_min, y_max = reduced_data[:, 1].min() - 1, reduced_data[:, 1].max() + 1\n",
    "xx, yy = np.meshgrid(np.arange(x_min, x_max, h), np.arange(y_min, y_max, h))\n",
    "\n",
    "plt.figure()\n",
    "plt.clf()\n",
    "\n",
    "plt.suptitle(\n",
    "    \"Comparing multiple K-Medoids metrics to K-Means and each other\",\n",
    "    fontsize=14,\n",
    ")\n",
    "\n",
    "\n",
    "selected_models = [\n",
    "    (\n",
    "        KMedoids(metric=\"manhattan\", n_clusters=n_digits),\n",
    "        \"KMedoids (manhattan)\",\n",
    "    ),\n",
    "    (\n",
    "        KMedoids(metric=\"euclidean\", n_clusters=n_digits),\n",
    "        \"KMedoids (euclidean)\",\n",
    "    ),\n",
    "    (KMedoids(metric=\"cosine\", n_clusters=n_digits), \"KMedoids (cosine)\"),\n",
    "    (KMeans(n_clusters=n_digits), \"KMeans\"),\n",
    "]\n",
    "\n",
    "plot_rows = int(np.ceil(len(selected_models) / 2.0))\n",
    "plot_cols = 2\n",
    "\n",
    "for i, (model, description) in enumerate(selected_models):\n",
    "    print(description)\n",
    "    # Obtain labels for each point in mesh. Use last trained model.\n",
    "    model.fit(reduced_data)\n",
    "    Z = model.predict(np.c_[xx.ravel(), yy.ravel()])\n",
    "\n",
    "    # Put the result into a color plot\n",
    "    Z = Z.reshape(xx.shape)\n",
    "    plt.subplot(plot_cols, plot_rows, i + 1)\n",
    "    plt.imshow(\n",
    "        Z,\n",
    "        interpolation=\"nearest\",\n",
    "        extent=(xx.min(), xx.max(), yy.min(), yy.max()),\n",
    "        cmap=plt.cm.Paired,\n",
    "        aspect=\"auto\",\n",
    "        origin=\"lower\",\n",
    "    )\n",
    "\n",
    "    plt.plot(\n",
    "        reduced_data[:, 0], reduced_data[:, 1], \"k.\", markersize=2, alpha=0.3\n",
    "    )\n",
    "    # Plot the centroids as a white X\n",
    "    centroids = model.cluster_centers_\n",
    "    plt.scatter(\n",
    "        centroids[:, 0],\n",
    "        centroids[:, 1],\n",
    "        marker=\"x\",\n",
    "        s=169,\n",
    "        linewidths=3,\n",
    "        color=\"w\",\n",
    "        zorder=10,\n",
    "    )\n",
    "    plt.title(description)\n",
    "    plt.xlim(x_min, x_max)\n",
    "    plt.ylim(y_min, y_max)\n",
    "    plt.xticks(())\n",
    "    plt.yticks(())\n",
    "\n",
    "\n",
    "plt.show()"
   ]
  },
  {
   "cell_type": "code",
   "execution_count": null,
   "metadata": {},
   "outputs": [],
   "source": []
  }
 ],
 "metadata": {
  "kernelspec": {
   "display_name": "Python 3",
   "language": "python",
   "name": "python3"
  },
  "language_info": {
   "codemirror_mode": {
    "name": "ipython",
    "version": 3
   },
   "file_extension": ".py",
   "mimetype": "text/x-python",
   "name": "python",
   "nbconvert_exporter": "python",
   "pygments_lexer": "ipython3",
   "version": "3.8.3"
  }
 },
 "nbformat": 4,
 "nbformat_minor": 4
}
